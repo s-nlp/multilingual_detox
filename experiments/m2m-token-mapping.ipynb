{
 "cells": [
  {
   "cell_type": "code",
   "execution_count": 1,
   "metadata": {},
   "outputs": [],
   "source": [
    "import os\n",
    "os.environ['CUDA_VISIBLE_DEVICES'] = '1'"
   ]
  },
  {
   "cell_type": "code",
   "execution_count": 23,
   "metadata": {},
   "outputs": [],
   "source": [
    "import pandas as pd\n",
    "import numpy as np\n",
    "from tqdm.auto import tqdm, trange"
   ]
  },
  {
   "cell_type": "code",
   "execution_count": 4,
   "metadata": {},
   "outputs": [],
   "source": [
    "detox_en2ru = pd.read_csv('detox_en2ru_yandex.tsv', sep='\\t')"
   ]
  },
  {
   "cell_type": "code",
   "execution_count": 9,
   "metadata": {},
   "outputs": [
    {
     "name": "stdout",
     "output_type": "stream",
     "text": [
      "and the guards will get fucked\n"
     ]
    }
   ],
   "source": []
  },
  {
   "cell_type": "code",
   "execution_count": 2,
   "metadata": {},
   "outputs": [],
   "source": [
    "from transformers import M2M100ForConditionalGeneration, M2M100Tokenizer\n",
    "\n",
    "model = M2M100ForConditionalGeneration.from_pretrained(\"facebook/m2m100_418M\")\n",
    "tokenizer = M2M100Tokenizer.from_pretrained(\"facebook/m2m100_418M\")"
   ]
  },
  {
   "cell_type": "code",
   "execution_count": 10,
   "metadata": {},
   "outputs": [],
   "source": [
    "model.cuda();"
   ]
  },
  {
   "cell_type": "code",
   "execution_count": 11,
   "metadata": {},
   "outputs": [],
   "source": [
    "import torch"
   ]
  },
  {
   "cell_type": "code",
   "execution_count": 33,
   "metadata": {},
   "outputs": [
    {
     "name": "stdout",
     "output_type": "stream",
     "text": [
      "they 've simply cried wolf too many times , and now it 's biting them in the ass .\n"
     ]
    }
   ],
   "source": [
    "text = detox_en2ru.sample(1).toxic_comment.iloc[0]\n",
    "print(text)"
   ]
  },
  {
   "cell_type": "code",
   "execution_count": 51,
   "metadata": {},
   "outputs": [],
   "source": [
    "tokenizer.src_lang = \"en\"\n",
    "batch = tokenizer(text, return_tensors=\"pt\")"
   ]
  },
  {
   "cell_type": "code",
   "execution_count": 104,
   "metadata": {},
   "outputs": [
    {
     "data": {
      "text/plain": [
       "['__ru__',\n",
       " '▁Это',\n",
       " '▁ло',\n",
       " 'ж',\n",
       " 'ь',\n",
       " ',',\n",
       " '▁я',\n",
       " '▁к',\n",
       " 'ля',\n",
       " 'ну',\n",
       " 'сь',\n",
       " ',',\n",
       " '▁sm',\n",
       " 'h',\n",
       " '▁w',\n",
       " '</s>']"
      ]
     },
     "execution_count": 104,
     "metadata": {},
     "output_type": "execute_result"
    }
   ],
   "source": [
    "tokenizer.convert_ids_to_tokens(batch['input_ids'][0])"
   ]
  },
  {
   "cell_type": "code",
   "execution_count": 52,
   "metadata": {},
   "outputs": [],
   "source": [
    "with torch.inference_mode():\n",
    "    encoded = model.model.encoder(**batch.to(model.device))"
   ]
  },
  {
   "cell_type": "code",
   "execution_count": 53,
   "metadata": {},
   "outputs": [
    {
     "data": {
      "text/plain": [
       "['They’ve simply cried wolf too many times, and now it’s biteing them in the ass.']"
      ]
     },
     "execution_count": 53,
     "metadata": {},
     "output_type": "execute_result"
    }
   ],
   "source": [
    "generated_tokens = model.generate(encoder_outputs=encoded, forced_bos_token_id=tokenizer.get_lang_id(\"en\"))\n",
    "tokenizer.batch_decode(generated_tokens, skip_special_tokens=True)"
   ]
  },
  {
   "cell_type": "markdown",
   "metadata": {},
   "source": [
    "# Exploring the cross-lingual space"
   ]
  },
  {
   "cell_type": "code",
   "execution_count": 20,
   "metadata": {},
   "outputs": [],
   "source": [
    "sample = detox_en2ru.sample(50, random_state=1)"
   ]
  },
  {
   "cell_type": "code",
   "execution_count": 61,
   "metadata": {},
   "outputs": [
    {
     "data": {
      "application/vnd.jupyter.widget-view+json": {
       "model_id": "89f21f7150ad49bfb585f0813b0d0329",
       "version_major": 2,
       "version_minor": 0
      },
      "text/plain": [
       "  0%|          | 0/50 [00:00<?, ?it/s]"
      ]
     },
     "metadata": {},
     "output_type": "display_data"
    },
    {
     "data": {
      "application/vnd.jupyter.widget-view+json": {
       "model_id": "8fc1ba98677049c1a92a8fb0ad7aec4a",
       "version_major": 2,
       "version_minor": 0
      },
      "text/plain": [
       "  0%|          | 0/50 [00:00<?, ?it/s]"
      ]
     },
     "metadata": {},
     "output_type": "display_data"
    },
    {
     "data": {
      "application/vnd.jupyter.widget-view+json": {
       "model_id": "fcce2780d15847fcaec76cc441fe13ab",
       "version_major": 2,
       "version_minor": 0
      },
      "text/plain": [
       "  0%|          | 0/50 [00:00<?, ?it/s]"
      ]
     },
     "metadata": {},
     "output_type": "display_data"
    },
    {
     "data": {
      "application/vnd.jupyter.widget-view+json": {
       "model_id": "c89d2854b344427c99887ca66dda7288",
       "version_major": 2,
       "version_minor": 0
      },
      "text/plain": [
       "  0%|          | 0/50 [00:00<?, ?it/s]"
      ]
     },
     "metadata": {},
     "output_type": "display_data"
    }
   ],
   "source": [
    "cc = ['toxic_comment', 'neutral_comment', 'toxic_ru', 'neutral_ru']\n",
    "embs = {c: [] for c in cc}\n",
    "for c in cc:\n",
    "    lang = 'ru' if c.endswith('ru') else 'en'\n",
    "    tokenizer.src_lang = lang\n",
    "    for text in tqdm(sample[c]):\n",
    "        batch = tokenizer(text, return_tensors=\"pt\")\n",
    "        with torch.inference_mode():\n",
    "            encoded = model.model.encoder(**batch.to(model.device))\n",
    "        embs[c].append(encoded.last_hidden_state[0].cpu().numpy())"
   ]
  },
  {
   "cell_type": "code",
   "execution_count": 113,
   "metadata": {},
   "outputs": [
    {
     "name": "stdout",
     "output_type": "stream",
     "text": [
      "(2978, 1024)\n",
      "2978\n"
     ]
    }
   ],
   "source": [
    "embs_list = []\n",
    "colors = []\n",
    "for i, c in enumerate(embs):\n",
    "    for emb in embs[c]:\n",
    "        embs_list.append(emb[1:-1])\n",
    "        colors.extend([i] * (emb.shape[0]-2))\n",
    "embs_list = np.concatenate(embs_list)\n",
    "colors = np.array(colors)\n",
    "print(embs_list.shape)\n",
    "print(len(colors))"
   ]
  },
  {
   "cell_type": "code",
   "execution_count": 106,
   "metadata": {},
   "outputs": [],
   "source": [
    "from sklearn.decomposition import PCA\n",
    "from sklearn.manifold import TSNE\n",
    "import matplotlib.pyplot as plt"
   ]
  },
  {
   "cell_type": "code",
   "execution_count": 108,
   "metadata": {},
   "outputs": [
    {
     "data": {
      "image/png": "[encoded data removed]",
      "text/plain": [
       "<Figure size 720x720 with 1 Axes>"
      ]
     },
     "metadata": {
      "needs_background": "light"
     },
     "output_type": "display_data"
    }
   ],
   "source": [
    "pca = PCA(n_components=2)\n",
    "embs2 = pca.fit_transform(embs_list)\n",
    "\n",
    "plt.figure(figsize=(10,10))\n",
    "\n",
    "for i, c in enumerate(cc):\n",
    "    f = (np.array(colors)==i)\n",
    "    plt.scatter(embs2[f, 0], embs2[f, 1]);\n",
    "plt.legend(cc);"
   ]
  },
  {
   "cell_type": "code",
   "execution_count": 109,
   "metadata": {},
   "outputs": [],
   "source": [
    "pca = TSNE(n_components=2, learning_rate=100, init='random')\n",
    "embs2 = pca.fit_transform(embs_list)"
   ]
  },
  {
   "cell_type": "code",
   "execution_count": 120,
   "metadata": {},
   "outputs": [
    {
     "data": {
      "image/png": "[encoded data removed]",
      "text/plain": [
       "<Figure size 720x720 with 1 Axes>"
      ]
     },
     "metadata": {
      "needs_background": "light"
     },
     "output_type": "display_data"
    }
   ],
   "source": [
    "plt.figure(figsize=(10,10))\n",
    "\n",
    "for i, c in enumerate(cc):\n",
    "    f = (np.array(colors)==i)\n",
    "    plt.scatter(embs2[f, 0], embs2[f, 1], s=10);\n",
    "plt.legend(cc);"
   ]
  },
  {
   "cell_type": "code",
   "execution_count": 115,
   "metadata": {},
   "outputs": [],
   "source": [
    "from sklearn.model_selection import cross_val_score, cross_val_predict, KFold, cross_val_predict\n",
    "from sklearn.linear_model import LogisticRegression\n",
    "from sklearn.metrics import confusion_matrix"
   ]
  },
  {
   "cell_type": "code",
   "execution_count": 114,
   "metadata": {},
   "outputs": [
    {
     "name": "stdout",
     "output_type": "stream",
     "text": [
      "[0.64149043 0.67774421 0.68245968]\n"
     ]
    }
   ],
   "source": [
    "print(cross_val_score(LogisticRegression(max_iter=1000), embs_list, colors, cv=KFold(3, shuffle=True, random_state=1)))"
   ]
  },
  {
   "cell_type": "code",
   "execution_count": 116,
   "metadata": {},
   "outputs": [],
   "source": [
    "preds = cross_val_predict(LogisticRegression(max_iter=1000), embs_list, colors, cv=KFold(3, shuffle=True, random_state=1))"
   ]
  },
  {
   "cell_type": "code",
   "execution_count": 117,
   "metadata": {},
   "outputs": [
    {
     "name": "stdout",
     "output_type": "stream",
     "text": [
      "[[512 172  40   5]\n",
      " [159 414   3  31]\n",
      " [ 27   7 620 256]\n",
      " [  5  26 260 441]]\n"
     ]
    }
   ],
   "source": [
    "print(confusion_matrix(colors, preds))"
   ]
  },
  {
   "cell_type": "markdown",
   "metadata": {},
   "source": [
    "Judging by the confusion matrix, a logistic regression can more or less easily classify the language, but not toxicity by the embeddings. \n",
    "\n",
    "However, even for toxicity there is high discriminative power. This means that some dimension in the embeddings may be responsible for toxicity."
   ]
  },
  {
   "cell_type": "markdown",
   "metadata": {},
   "source": [
    "# Training an adapter"
   ]
  },
  {
   "cell_type": "code",
   "execution_count": 131,
   "metadata": {},
   "outputs": [],
   "source": [
    "from sklearn.model_selection import train_test_split\n",
    "train, dev = train_test_split(detox_en2ru, test_size=0.1, random_state=1)"
   ]
  },
  {
   "cell_type": "code",
   "execution_count": 358,
   "metadata": {},
   "outputs": [],
   "source": [
    "hidden_dim = 1024\n",
    "internal_dim = 4096"
   ]
  },
  {
   "cell_type": "code",
   "execution_count": 411,
   "metadata": {},
   "outputs": [],
   "source": [
    "class Adapter(torch.nn.Module):\n",
    "    def __init__(self):\n",
    "        super().__init__()\n",
    "        # self.delta = torch.nn.Linear(hidden_dim, hidden_dim, bias=True)\n",
    "        self.delta = torch.nn.Sequential(\n",
    "            torch.nn.Linear(hidden_dim, internal_dim, bias=True),\n",
    "            torch.nn.LeakyReLU(),\n",
    "            torch.nn.Linear(internal_dim, hidden_dim, bias=True),\n",
    "        )\n",
    "    def forward(self, x):\n",
    "        return x + self.delta(x)\n",
    "    \n",
    "adapter = Adapter()"
   ]
  },
  {
   "cell_type": "code",
   "execution_count": 412,
   "metadata": {},
   "outputs": [
    {
     "data": {
      "text/plain": [
       "Adapter(\n",
       "  (delta): Sequential(\n",
       "    (0): Linear(in_features=1024, out_features=4096, bias=True)\n",
       "    (1): LeakyReLU(negative_slope=0.01)\n",
       "    (2): Linear(in_features=4096, out_features=1024, bias=True)\n",
       "  )\n",
       ")"
      ]
     },
     "execution_count": 412,
     "metadata": {},
     "output_type": "execute_result"
    }
   ],
   "source": [
    "adapter.cuda()"
   ]
  },
  {
   "cell_type": "code",
   "execution_count": 413,
   "metadata": {},
   "outputs": [
    {
     "data": {
      "text/plain": [
       "Adapter(\n",
       "  (delta): Sequential(\n",
       "    (0): Linear(in_features=1024, out_features=4096, bias=True)\n",
       "    (1): LeakyReLU(negative_slope=0.01)\n",
       "    (2): Linear(in_features=4096, out_features=1024, bias=True)\n",
       "  )\n",
       ")"
      ]
     },
     "execution_count": 413,
     "metadata": {},
     "output_type": "execute_result"
    }
   ],
   "source": [
    "model.train()\n",
    "adapter.train()"
   ]
  },
  {
   "cell_type": "code",
   "execution_count": 414,
   "metadata": {},
   "outputs": [],
   "source": [
    "optimizer = torch.optim.Adam(adapter.parameters(), lr=5e-5)"
   ]
  },
  {
   "cell_type": "code",
   "execution_count": 415,
   "metadata": {},
   "outputs": [
    {
     "data": {
      "application/vnd.jupyter.widget-view+json": {
       "model_id": "cfc21b889a5e4f3480029760f85de7cd",
       "version_major": 2,
       "version_minor": 0
      },
      "text/plain": [
       "  0%|          | 0/5000 [00:00<?, ?it/s]"
      ]
     },
     "metadata": {},
     "output_type": "display_data"
    },
    {
     "name": "stdout",
     "output_type": "stream",
     "text": [
      "2.5634987354278564\n",
      "1.4070603054761888\n",
      "1.3360754132270813\n",
      "1.2615285867452621\n",
      "1.2275899678468705\n",
      "1.1670683205127717\n",
      "1.2174230057001114\n",
      "1.1401446628570557\n",
      "1.163581547141075\n",
      "1.12140034198761\n",
      "1.1180261158943177\n",
      "1.1152860122919082\n",
      "1.0788375097513199\n",
      "1.0816934752464293\n",
      "1.0830440497398377\n",
      "1.079659610390663\n",
      "1.0200724989175796\n",
      "1.0480930799245833\n",
      "1.0719901514053345\n",
      "1.0440519952774048\n",
      "1.047811543941498\n",
      "1.031197504401207\n",
      "1.0311361509561539\n",
      "1.0021490502357482\n",
      "0.9938245511054993\n",
      "0.976237244606018\n",
      "1.0152997434139253\n",
      "1.019503903388977\n",
      "0.9699429994821549\n",
      "0.9703399401903152\n",
      "0.9965122258663177\n",
      "1.0081796833872796\n",
      "0.9662356829643249\n",
      "0.9710186213254929\n",
      "0.971836371421814\n",
      "0.9582587611675263\n",
      "0.9479912170767784\n",
      "0.9900373417139053\n",
      "0.9948910355567933\n",
      "0.9476789581775665\n",
      "0.938176862001419\n",
      "0.941300117969513\n",
      "0.9648290997743607\n",
      "0.9473976528644562\n",
      "0.95912745565176\n",
      "0.9682060080766678\n",
      "0.9274116313457489\n",
      "0.9024239045381546\n",
      "0.9334097623825073\n",
      "0.9124724984169006\n"
     ]
    }
   ],
   "source": [
    "losses = []\n",
    "for i in trange(5_000):\n",
    "    text_batch = train.sample(16)\n",
    "    tokenizer.src_lang = \"en\"\n",
    "    batch_in = tokenizer(text_batch.toxic_comment.tolist(), return_tensors=\"pt\", padding=True).to(model.device)\n",
    "    batch_out = tokenizer(text_batch.neutral_comment.tolist(), return_tensors=\"pt\", padding=True).to(model.device)\n",
    "    batch_out.input_ids[batch_out.input_ids==tokenizer.pad_token_id] = -100\n",
    "    \n",
    "    with torch.no_grad():\n",
    "        encoded = model.model.encoder(**batch_in)\n",
    "    transformed = adapter(encoded.last_hidden_state)\n",
    "\n",
    "    total_out = model(\n",
    "        encoder_outputs=[transformed], \n",
    "        attention_mask=batch_in.attention_mask,\n",
    "        decoder_attention_mask=batch_out.attention_mask,\n",
    "        labels=batch_out.input_ids,\n",
    "    )\n",
    "    total_out.loss.backward()\n",
    "    torch.nn.utils.clip_grad_norm_(adapter.parameters(), 1.0)\n",
    "    optimizer.step()\n",
    "    optimizer.zero_grad()\n",
    "    losses.append(total_out.loss.item())\n",
    "    if i % 100 == 0:\n",
    "        print(np.mean(losses[-100:]))\n"
   ]
  },
  {
   "cell_type": "code",
   "execution_count": 416,
   "metadata": {},
   "outputs": [],
   "source": [
    "model.eval();\n",
    "adapter.eval();"
   ]
  },
  {
   "cell_type": "code",
   "execution_count": 417,
   "metadata": {},
   "outputs": [
    {
     "name": "stdout",
     "output_type": "stream",
     "text": [
      "i think you are fine as fuck 59\n",
      "I think you are fine.\n"
     ]
    }
   ],
   "source": [
    "row = detox_en2ru.sample(1).iloc[0]\n",
    "text = row.toxic_comment\n",
    "print(text)\n",
    "print(row.neutral_comment)"
   ]
  },
  {
   "cell_type": "code",
   "execution_count": 418,
   "metadata": {},
   "outputs": [
    {
     "name": "stdout",
     "output_type": "stream",
     "text": [
      "['I think you’re fine as fuck 59']\n"
     ]
    }
   ],
   "source": [
    "tokenizer.src_lang = \"en\"\n",
    "batch = tokenizer(text, return_tensors=\"pt\").to(model.device)\n",
    "with torch.inference_mode():\n",
    "    encoded = model.model.encoder(**batch)\n",
    "generated_tokens = model.generate(encoder_outputs=encoded, forced_bos_token_id=tokenizer.get_lang_id(\"en\"))\n",
    "print(tokenizer.batch_decode(generated_tokens, skip_special_tokens=True))"
   ]
  },
  {
   "cell_type": "code",
   "execution_count": 419,
   "metadata": {},
   "outputs": [],
   "source": [
    "from transformers.modeling_outputs import BaseModelOutput"
   ]
  },
  {
   "cell_type": "code",
   "execution_count": 420,
   "metadata": {},
   "outputs": [
    {
     "name": "stdout",
     "output_type": "stream",
     "text": [
      "['I think you are fine.']\n"
     ]
    }
   ],
   "source": [
    "with torch.inference_mode():\n",
    "    encoded = model.model.encoder(**batch)\n",
    "    adapted = BaseModelOutput(last_hidden_state=adapter(encoded.last_hidden_state))\n",
    "generated_tokens = model.generate(encoder_outputs=adapted, forced_bos_token_id=tokenizer.get_lang_id(\"en\"))\n",
    "print(tokenizer.batch_decode(generated_tokens, skip_special_tokens=True))"
   ]
  },
  {
   "cell_type": "code",
   "execution_count": 421,
   "metadata": {},
   "outputs": [
    {
     "name": "stdout",
     "output_type": "stream",
     "text": [
      "я думаю, что ты чертовски хороша.\n",
      "Я думаю, с тобой все в порядке.\n",
      "['Я думаю, что ты чертовски хорошая.']\n",
      "['Я думаю, что вы хороши.']\n"
     ]
    }
   ],
   "source": [
    "print(row.toxic_ru)\n",
    "print(row.neutral_ru)\n",
    "\n",
    "tokenizer.src_lang = \"ru\"\n",
    "batch = tokenizer(row.toxic_ru, return_tensors=\"pt\").to(model.device)\n",
    "with torch.inference_mode():\n",
    "    encoded = model.model.encoder(**batch)\n",
    "generated_tokens = model.generate(encoder_outputs=encoded, forced_bos_token_id=tokenizer.get_lang_id(\"ru\"))\n",
    "print(tokenizer.batch_decode(generated_tokens, skip_special_tokens=True))\n",
    "\n",
    "with torch.inference_mode():\n",
    "    encoded = model.model.encoder(**batch)\n",
    "    adapted = BaseModelOutput(last_hidden_state=adapter(encoded.last_hidden_state))\n",
    "generated_tokens = model.generate(encoder_outputs=adapted, forced_bos_token_id=tokenizer.get_lang_id(\"ru\"))\n",
    "print(tokenizer.batch_decode(generated_tokens, skip_special_tokens=True))"
   ]
  },
  {
   "cell_type": "markdown",
   "metadata": {},
   "source": [
    "Does beam search work in this mode?"
   ]
  },
  {
   "cell_type": "code",
   "execution_count": 425,
   "metadata": {},
   "outputs": [
    {
     "name": "stdout",
     "output_type": "stream",
     "text": [
      "['Я думаю, что вы хороши.', 'Я думаю, что ты хорош.', 'Я думаю, что ты хороша.']\n"
     ]
    }
   ],
   "source": [
    "with torch.inference_mode():\n",
    "    encoded = model.model.encoder(**batch)\n",
    "    adapted = BaseModelOutput(last_hidden_state=adapter(encoded.last_hidden_state))\n",
    "generated_tokens = model.generate(encoder_outputs=adapted, forced_bos_token_id=tokenizer.get_lang_id(\"ru\"), num_beams=3, num_return_sequences=3)\n",
    "print(tokenizer.batch_decode(generated_tokens, skip_special_tokens=True))"
   ]
  },
  {
   "cell_type": "markdown",
   "metadata": {},
   "source": [
    "The results seem to indicate that the adapter works fine (at least, for English).\n",
    "\n",
    "In Russian the encoder-decoder itself is rather poor (even without the adapter), so it's difficult to properly compare texts with and without the adapter. Probably, the model has seen very few Russian toxic texts. "
   ]
  },
  {
   "cell_type": "code",
   "execution_count": 442,
   "metadata": {},
   "outputs": [],
   "source": [
    "def paraphrase_adapt(\n",
    "    text, model, tokenizer, adapter,\n",
    "    n=None, \n",
    "    max_length=\"auto\", \n",
    "    beams=5,\n",
    "    src_lang='en',\n",
    "    tgt_lang='en',\n",
    "    **kwargs\n",
    "):\n",
    "    tokenizer.src_lang = src_lang\n",
    "    tokenizer.tgt_lang = tgt_lang\n",
    "    texts = [text] if isinstance(text, str) else text\n",
    "    tokenizer.tgt_lang\n",
    "    inputs = tokenizer(texts, return_tensors=\"pt\", padding=True)[\"input_ids\"].to(model.device)\n",
    "\n",
    "    if max_length == \"auto\":\n",
    "        max_length = inputs.shape[1] + 10\n",
    "        \n",
    "    with torch.inference_mode():\n",
    "        encoded = model.model.encoder(inputs)\n",
    "        adapted = BaseModelOutput(last_hidden_state=adapter(encoded.last_hidden_state))\n",
    "\n",
    "    result = model.generate(\n",
    "        encoder_outputs=adapted,\n",
    "        num_return_sequences=n or 1,\n",
    "        do_sample=False,\n",
    "        temperature=1.0,\n",
    "        repetition_penalty=1.0,\n",
    "        max_length=max_length,\n",
    "        #min_length=int(0.5 * max_length),\n",
    "        num_beams=beams,\n",
    "        forced_bos_token_id=tokenizer.get_lang_id(tgt_lang),\n",
    "    )\n",
    "    texts = [tokenizer.decode(r, skip_special_tokens=True) for r in result]\n",
    "\n",
    "    if not n and isinstance(text, str):\n",
    "        return texts[0]\n",
    "    return texts[0]"
   ]
  },
  {
   "cell_type": "code",
   "execution_count": 448,
   "metadata": {},
   "outputs": [
    {
     "data": {
      "text/plain": [
       "'I think you are fine.'"
      ]
     },
     "execution_count": 448,
     "metadata": {},
     "output_type": "execute_result"
    }
   ],
   "source": [
    "paraphrase_adapt(row.toxic_comment, model, tokenizer, adapter, src_lang='en', tgt_lang='en', beams=5)"
   ]
  },
  {
   "cell_type": "code",
   "execution_count": 449,
   "metadata": {},
   "outputs": [
    {
     "data": {
      "text/plain": [
       "'Я думаю, что вы хороши.'"
      ]
     },
     "execution_count": 449,
     "metadata": {},
     "output_type": "execute_result"
    }
   ],
   "source": [
    "paraphrase_adapt(row.toxic_ru, model, tokenizer, adapter, src_lang='ru', tgt_lang='ru', beams=5)"
   ]
  },
  {
   "cell_type": "markdown",
   "metadata": {},
   "source": [
    "# Evaluating the model on English and Russian"
   ]
  },
  {
   "cell_type": "code",
   "execution_count": 450,
   "metadata": {},
   "outputs": [],
   "source": [
    "test_data = pd.read_csv('../data/russian_data/test.tsv', sep='\\t')\n",
    "test_inputs_ru = test_data[\"toxic_comment\"].values.tolist()"
   ]
  },
  {
   "cell_type": "code",
   "execution_count": 451,
   "metadata": {},
   "outputs": [],
   "source": [
    "with open('../data/english_data/test_toxic_parallel.txt', 'r') as f:\n",
    "    test_inputs_en = [line.strip() for line in f.readlines()]"
   ]
  },
  {
   "cell_type": "code",
   "execution_count": 454,
   "metadata": {},
   "outputs": [
    {
     "data": {
      "application/vnd.jupyter.widget-view+json": {
       "model_id": "1911e954841949ebb76676cf19658a42",
       "version_major": 2,
       "version_minor": 0
      },
      "text/plain": [
       "  0%|          | 0/1000 [00:00<?, ?it/s]"
      ]
     },
     "metadata": {},
     "output_type": "display_data"
    }
   ],
   "source": [
    "test_outputs_ru = [paraphrase_adapt(text, model, tokenizer, adapter, src_lang='ru', tgt_lang='ru') for text in tqdm(test_inputs_ru)]"
   ]
  },
  {
   "cell_type": "code",
   "execution_count": 455,
   "metadata": {},
   "outputs": [
    {
     "data": {
      "application/vnd.jupyter.widget-view+json": {
       "model_id": "6fdd37498a86464bb407f55cde630158",
       "version_major": 2,
       "version_minor": 0
      },
      "text/plain": [
       "  0%|          | 0/671 [00:00<?, ?it/s]"
      ]
     },
     "metadata": {},
     "output_type": "display_data"
    }
   ],
   "source": [
    "test_outputs_en = [paraphrase_adapt(text, model, tokenizer, adapter, src_lang='en', tgt_lang='en') for text in tqdm(test_inputs_en)]"
   ]
  },
  {
   "cell_type": "code",
   "execution_count": 459,
   "metadata": {},
   "outputs": [],
   "source": [
    "path = '../results/enc_adapter_m2m_v1/' \n",
    "if not os.path.exists(path):\n",
    "    os.mkdir(path)"
   ]
  },
  {
   "cell_type": "code",
   "execution_count": 460,
   "metadata": {},
   "outputs": [],
   "source": [
    "with open(path + 'results_ru.txt', 'w') as f:\n",
    "    for line in test_outputs_ru:\n",
    "        f.write(line + '\\n')\n",
    "with open(path + 'results_en.txt', 'w') as f:\n",
    "    for line in test_outputs_en:\n",
    "        f.write(line + '\\n')"
   ]
  },
  {
   "cell_type": "markdown",
   "metadata": {},
   "source": [
    "```\n",
    "cd /home/dale/projects/multilingual_detox$\n",
    "python evaluate_ru.py \\\n",
    "    --result_filename scores \\\n",
    "    --input_dir results/enc_adapter_m2m_v1\\\n",
    "    --output_dir results\n",
    "    \n",
    "Style accuracy:       0.3578416109085083\n",
    "Meaning preservation: 0.876542329788208\n",
    "Joint fluency:        -0.22605130076408386\n",
    "Joint score:          -0.07532332837581635\n",
    "Scores after calibration:\n",
    "Style accuracy:       0.4220574200153351\n",
    "Meaning preservation: 0.814909040927887\n",
    "Joint fluency:        0.7400410175323486\n",
    "Joint score:          0.23157751560211182\n",
    "```"
   ]
  },
  {
   "cell_type": "markdown",
   "metadata": {},
   "source": [
    "```\n",
    "cd /home/dale/projects/paradetox2/evaluation_detox\n",
    "python metric.py --inputs /home/dale/projects/multilingual_detox/data/english_data/test_toxic_parallel.txt \\\n",
    "    --preds /home/dale/projects/multilingual_detox/results/enc_adapter_m2m_v1/results_en.txt \\\n",
    "    --cola_classifier_path /home/dale/models/cola_classifier_fairseq \\\n",
    "    --wieting_model_path /home/dale/models/wieting_similarity/sim.pt \\\n",
    "    --wieting_tokenizer_path /home/dale/models/wieting_similarity/sim.sp.30k.model \\\n",
    "    --batch_size 32\n",
    "cat results.md\n",
    "```\n",
    "\n",
    "\n",
    "| Model | ACC | EMB_SIM | SIM | CharPPL | TokenPPL | FL | GM | J | BLEU |\n",
    "| ----- | --- | ------- | --- | ------- | -------- | -- | -- | - | ---- |\n",
    "results_en.txt|0.8823|0.8714|0.8540|6.1855|169.6834|0.8018|10.9636|0.5992|0.6873|"
   ]
  },
  {
   "cell_type": "markdown",
   "metadata": {},
   "source": [
    "# The same from Russian to English"
   ]
  },
  {
   "cell_type": "code",
   "execution_count": 461,
   "metadata": {},
   "outputs": [],
   "source": [
    "detox_ru2en = pd.read_csv('detox_ru2en_yandex.tsv', sep='\\t')"
   ]
  },
  {
   "cell_type": "code",
   "execution_count": 465,
   "metadata": {},
   "outputs": [],
   "source": [
    "from sklearn.model_selection import train_test_split\n",
    "train_ru, dev_ru = train_test_split(detox_ru2en, test_size=0.1, random_state=1)"
   ]
  },
  {
   "cell_type": "code",
   "execution_count": 462,
   "metadata": {},
   "outputs": [],
   "source": [
    "class Adapter(torch.nn.Module):\n",
    "    def __init__(self):\n",
    "        super().__init__()\n",
    "        # self.delta = torch.nn.Linear(hidden_dim, hidden_dim, bias=True)\n",
    "        self.delta = torch.nn.Sequential(\n",
    "            torch.nn.Linear(hidden_dim, internal_dim, bias=True),\n",
    "            torch.nn.LeakyReLU(),\n",
    "            torch.nn.Linear(internal_dim, hidden_dim, bias=True),\n",
    "        )\n",
    "    def forward(self, x):\n",
    "        return x + self.delta(x)\n",
    "    \n",
    "adapter = Adapter()"
   ]
  },
  {
   "cell_type": "code",
   "execution_count": 463,
   "metadata": {},
   "outputs": [
    {
     "data": {
      "text/plain": [
       "Adapter(\n",
       "  (delta): Sequential(\n",
       "    (0): Linear(in_features=1024, out_features=4096, bias=True)\n",
       "    (1): LeakyReLU(negative_slope=0.01)\n",
       "    (2): Linear(in_features=4096, out_features=1024, bias=True)\n",
       "  )\n",
       ")"
      ]
     },
     "execution_count": 463,
     "metadata": {},
     "output_type": "execute_result"
    }
   ],
   "source": [
    "adapter.cuda()\n",
    "model.train()\n",
    "adapter.train()"
   ]
  },
  {
   "cell_type": "code",
   "execution_count": 464,
   "metadata": {},
   "outputs": [],
   "source": [
    "optimizer = torch.optim.Adam(adapter.parameters(), lr=5e-5)"
   ]
  },
  {
   "cell_type": "code",
   "execution_count": 469,
   "metadata": {},
   "outputs": [
    {
     "data": {
      "application/vnd.jupyter.widget-view+json": {
       "model_id": "eac61385fb994a81bb3cdf90157d4b57",
       "version_major": 2,
       "version_minor": 0
      },
      "text/plain": [
       "  0%|          | 0/5000 [00:00<?, ?it/s]"
      ]
     },
     "metadata": {},
     "output_type": "display_data"
    },
    {
     "name": "stdout",
     "output_type": "stream",
     "text": [
      "2.631380558013916\n",
      "1.8291556024551392\n",
      "1.7175639498233795\n",
      "1.648769612312317\n",
      "1.6000896215438842\n",
      "1.5719745647907257\n",
      "1.553817673921585\n",
      "1.5003490084409714\n",
      "1.4735709202289582\n",
      "1.4521545922756196\n",
      "1.4470580911636353\n",
      "1.3713333696126937\n",
      "1.4275887823104858\n",
      "1.4252421069145202\n",
      "1.3495681178569794\n",
      "1.3930291259288787\n",
      "1.3639051175117494\n",
      "1.317433986067772\n",
      "1.3011553514003753\n",
      "1.2805357027053832\n",
      "1.3000883591175079\n",
      "1.2805873811244965\n",
      "1.3277544993162156\n",
      "1.274260586500168\n",
      "1.2187326097488402\n",
      "1.2610088592767716\n",
      "1.280088717341423\n",
      "1.2426704108715056\n",
      "1.2178884774446488\n",
      "1.2022328579425812\n",
      "1.205472731590271\n",
      "1.1543121647834778\n",
      "1.146701963543892\n",
      "1.159218320250511\n",
      "1.1610113954544068\n",
      "1.1521431916952134\n",
      "1.1543904840946198\n",
      "1.1279992699623107\n",
      "1.1310696691274642\n",
      "1.105640343427658\n",
      "1.115395388007164\n",
      "1.1199989646673203\n",
      "1.080798503756523\n",
      "1.1286238706111908\n",
      "1.0576503676176072\n",
      "1.0930170965194703\n",
      "1.0700987058877944\n",
      "1.0724241143465043\n",
      "1.0330705851316453\n",
      "1.0622481197118758\n"
     ]
    }
   ],
   "source": [
    "losses = []\n",
    "for i in trange(5_000):\n",
    "    text_batch = train_ru.sample(16)\n",
    "    tokenizer.src_lang = \"ru\"\n",
    "    batch_in = tokenizer(text_batch.toxic_comment.tolist(), return_tensors=\"pt\", padding=True).to(model.device)\n",
    "    batch_out = tokenizer(text_batch.neutral_comment.tolist(), return_tensors=\"pt\", padding=True).to(model.device)\n",
    "    batch_out.input_ids[batch_out.input_ids==tokenizer.pad_token_id] = -100\n",
    "    \n",
    "    with torch.no_grad():\n",
    "        encoded = model.model.encoder(**batch_in)\n",
    "    transformed = adapter(encoded.last_hidden_state)\n",
    "\n",
    "    total_out = model(\n",
    "        encoder_outputs=[transformed], \n",
    "        attention_mask=batch_in.attention_mask,\n",
    "        decoder_attention_mask=batch_out.attention_mask,\n",
    "        labels=batch_out.input_ids,\n",
    "    )\n",
    "    total_out.loss.backward()\n",
    "    torch.nn.utils.clip_grad_norm_(adapter.parameters(), 1.0)\n",
    "    optimizer.step()\n",
    "    optimizer.zero_grad()\n",
    "    losses.append(total_out.loss.item())\n",
    "    if i % 100 == 0:\n",
    "        print(np.mean(losses[-100:]))\n"
   ]
  },
  {
   "cell_type": "code",
   "execution_count": 478,
   "metadata": {},
   "outputs": [],
   "source": [
    "model.eval();\n",
    "adapter.eval();"
   ]
  },
  {
   "cell_type": "code",
   "execution_count": 470,
   "metadata": {},
   "outputs": [],
   "source": [
    "test_data = pd.read_csv('../data/russian_data/test.tsv', sep='\\t')\n",
    "test_inputs_ru = test_data[\"toxic_comment\"].values.tolist()"
   ]
  },
  {
   "cell_type": "code",
   "execution_count": 471,
   "metadata": {},
   "outputs": [],
   "source": [
    "with open('../data/english_data/test_toxic_parallel.txt', 'r') as f:\n",
    "    test_inputs_en = [line.strip() for line in f.readlines()]"
   ]
  },
  {
   "cell_type": "code",
   "execution_count": 479,
   "metadata": {},
   "outputs": [
    {
     "data": {
      "application/vnd.jupyter.widget-view+json": {
       "model_id": "d3f3f35e655f4087bc24bedfe26a588f",
       "version_major": 2,
       "version_minor": 0
      },
      "text/plain": [
       "  0%|          | 0/1000 [00:00<?, ?it/s]"
      ]
     },
     "metadata": {},
     "output_type": "display_data"
    }
   ],
   "source": [
    "test_outputs_ru = [paraphrase_adapt(text, model, tokenizer, adapter, src_lang='ru', tgt_lang='ru') for text in tqdm(test_inputs_ru)]"
   ]
  },
  {
   "cell_type": "code",
   "execution_count": 480,
   "metadata": {},
   "outputs": [
    {
     "data": {
      "application/vnd.jupyter.widget-view+json": {
       "model_id": "3cd91bce9dc340058478c96aba193705",
       "version_major": 2,
       "version_minor": 0
      },
      "text/plain": [
       "  0%|          | 0/671 [00:00<?, ?it/s]"
      ]
     },
     "metadata": {},
     "output_type": "display_data"
    }
   ],
   "source": [
    "test_outputs_en = [paraphrase_adapt(text, model, tokenizer, adapter, src_lang='en', tgt_lang='en') for text in tqdm(test_inputs_en)]"
   ]
  },
  {
   "cell_type": "code",
   "execution_count": 481,
   "metadata": {},
   "outputs": [],
   "source": [
    "path = '../results/enc_adapter_m2m_ru_v1/' \n",
    "if not os.path.exists(path):\n",
    "    os.mkdir(path)"
   ]
  },
  {
   "cell_type": "code",
   "execution_count": 482,
   "metadata": {},
   "outputs": [],
   "source": [
    "with open(path + 'results_ru.txt', 'w') as f:\n",
    "    for line in test_outputs_ru:\n",
    "        f.write(line + '\\n')\n",
    "with open(path + 'results_en.txt', 'w') as f:\n",
    "    for line in test_outputs_en:\n",
    "        f.write(line + '\\n')"
   ]
  },
  {
   "cell_type": "markdown",
   "metadata": {},
   "source": [
    "```\n",
    "cd /home/dale/projects/multilingual_detox\n",
    "python evaluate_ru.py \\\n",
    "    --result_filename scores \\\n",
    "    --input_dir results/enc_adapter_m2m_ru_v1\\\n",
    "    --output_dir results\n",
    "    \n",
    "Style accuracy:       0.7373876571655273\n",
    "Meaning preservation: 0.852652907371521\n",
    "Joint fluency:        -0.19969893991947174\n",
    "Joint score:          -0.11836094409227371\n",
    "Scores after calibration:\n",
    "Style accuracy:       0.7636488676071167\n",
    "Meaning preservation: 0.7790086269378662\n",
    "Joint fluency:        0.7703461647033691\n",
    "Joint score:          0.46733611822128296\n",
    "```"
   ]
  },
  {
   "cell_type": "markdown",
   "metadata": {},
   "source": [
    "```\n",
    "cd /home/dale/projects/paradetox2/evaluation_detox\n",
    "python metric.py --inputs /home/dale/projects/multilingual_detox/data/english_data/test_toxic_parallel.txt \\\n",
    "    --preds /home/dale/projects/multilingual_detox/results/enc_adapter_m2m_ru_v1/results_en.txt \\\n",
    "    --cola_classifier_path /home/dale/models/cola_classifier_fairseq \\\n",
    "    --wieting_model_path /home/dale/models/wieting_similarity/sim.pt \\\n",
    "    --wieting_tokenizer_path /home/dale/models/wieting_similarity/sim.sp.30k.model \\\n",
    "    --batch_size 32\n",
    "cat results.md\n",
    "```\n",
    "\n",
    "\n",
    "| Model | ACC | EMB_SIM | SIM | CharPPL | TokenPPL | FL | GM | J | BLEU |\n",
    "| ----- | --- | ------- | --- | ------- | -------- | -- | -- | - | ---- |\n",
    "results_en.txt|0.4203|0.8633|0.8932|6.2777|142.1785|0.8167|0.0000|0.2741|0.7448|"
   ]
  },
  {
   "cell_type": "markdown",
   "metadata": {},
   "source": [
    "# Experiments with style strength"
   ]
  },
  {
   "cell_type": "code",
   "execution_count": 483,
   "metadata": {},
   "outputs": [],
   "source": [
    "def paraphrase_adapt(\n",
    "    text, model, tokenizer, adapter,\n",
    "    coef=1,\n",
    "    n=None, \n",
    "    max_length=\"auto\", \n",
    "    beams=5,\n",
    "    src_lang='en',\n",
    "    tgt_lang='en',\n",
    "    **kwargs\n",
    "):\n",
    "    tokenizer.src_lang = src_lang\n",
    "    tokenizer.tgt_lang = tgt_lang\n",
    "    texts = [text] if isinstance(text, str) else text\n",
    "    tokenizer.tgt_lang\n",
    "    inputs = tokenizer(texts, return_tensors=\"pt\", padding=True)[\"input_ids\"].to(model.device)\n",
    "\n",
    "    if max_length == \"auto\":\n",
    "        max_length = inputs.shape[1] + 10\n",
    "        \n",
    "    with torch.inference_mode():\n",
    "        encoded = model.model.encoder(inputs)\n",
    "        old_states = encoded.last_hidden_state\n",
    "        new_states = adapter(encoded.last_hidden_state)\n",
    "        interpolated = old_states + coef * (new_states - old_states)\n",
    "        adapted = BaseModelOutput(last_hidden_state=interpolated)\n",
    "\n",
    "    result = model.generate(\n",
    "        encoder_outputs=adapted,\n",
    "        num_return_sequences=n or 1,\n",
    "        do_sample=False,\n",
    "        temperature=1.0,\n",
    "        repetition_penalty=1.0,\n",
    "        max_length=max_length,\n",
    "        #min_length=int(0.5 * max_length),\n",
    "        num_beams=beams,\n",
    "        forced_bos_token_id=tokenizer.get_lang_id(tgt_lang),\n",
    "    )\n",
    "    texts = [tokenizer.decode(r, skip_special_tokens=True) for r in result]\n",
    "\n",
    "    if not n and isinstance(text, str):\n",
    "        return texts[0]\n",
    "    return texts[0]"
   ]
  },
  {
   "cell_type": "code",
   "execution_count": 511,
   "metadata": {},
   "outputs": [
    {
     "name": "stdout",
     "output_type": "stream",
     "text": [
      "к чему твоя пикча, дурачок? этот чувак не из Украины, а откудо-то из Сибири вроде Омск...\n",
      "К чему твоя Пикча? Этот чувак не из Украины, а откуда-то из Сибири вроде Омск\n"
     ]
    }
   ],
   "source": [
    "row = detox_ru2en.sample(1).iloc[0]\n",
    "text = row.toxic_comment\n",
    "print(text)\n",
    "print(row.neutral_comment)"
   ]
  },
  {
   "cell_type": "code",
   "execution_count": 512,
   "metadata": {},
   "outputs": [
    {
     "name": "stdout",
     "output_type": "stream",
     "text": [
      "0 \t К чему твоя пикча, глупак? этот чувак не из Украины, а откуда-то из Сибири как Омск...\n",
      "0.25 \t К чему твоя пикча, глупак? этот чувак не из Украины, а откуда-то из Сибири как Омск...\n",
      "0.5 \t К чему твоя пикча? этот чувак не из Украины, а откуда-то из Сибири вроде Омск...\n",
      "0.75 \t К чему твоя пикча? Этот чувак не из Украины, а откуда-то из Сибири вроде Омск...\n",
      "1 \t К чему твоя пикча? Этот человек не из Украины, а откуда-то из Сибири вроде Омск...\n",
      "1.25 \t К чему ты пикча? Этот человек не из Украины, а откуда то то из Сибири вроде Омск...\n",
      "1.5 \t К чему ты говоришь? Этот человек не из Украины, а от Сбири вроде Омск...\n"
     ]
    }
   ],
   "source": [
    "for coef in [0, 0.25, 0.5, 0.75, 1, 1.25, 1.5]:\n",
    "    print(coef, '\\t', paraphrase_adapt(text, model, tokenizer, adapter, coef=coef, src_lang='ru', tgt_lang='ru'))"
   ]
  },
  {
   "cell_type": "markdown",
   "metadata": {},
   "source": [
    "Occasionally, coefficient of 1 does not fully detoxify, but 1.25 or 1.5 does. But it's not obvious how to predict which coefficient is enough."
   ]
  },
  {
   "cell_type": "code",
   "execution_count": 550,
   "metadata": {},
   "outputs": [
    {
     "name": "stdout",
     "output_type": "stream",
     "text": [
      "all for immigration but europe 's gone to shit over the last decade .\n",
      "All for immigration but Europe is not so strong over the last decade.\n",
      "0 \t All for immigration but Europe’s gone to shit over the last decade.\n",
      "0.25 \t All for immigration but Europe’s gone to shit over the last decade.\n",
      "0.5 \t All for immigration but Europe’s gone to shit over the last decade.\n",
      "0.75 \t All for immigration but Europe’s gone to shit over the last decade.\n",
      "1 \t All for immigration but Europe's have gone to shit over the last decade.\n",
      "1.25 \t All for immigration but Europe's have gone to shit over the last decade.\n",
      "1.5 \t All for immigration but Europe's have gone to it in the last decade\n",
      "1.75 \t All for immigration but Europe's have gone to it.\n",
      "2 \t in Europa's'd'd'd'd'd'd'd'd'd'd'd'\n"
     ]
    }
   ],
   "source": [
    "row = detox_en2ru.sample(1).iloc[0]\n",
    "text = row.toxic_comment\n",
    "print(text)\n",
    "print(row.neutral_comment)\n",
    "\n",
    "for coef in [0, 0.25, 0.5, 0.75, 1, 1.25, 1.5, 1.75, 2]:\n",
    "    print(coef, '\\t', paraphrase_adapt(text, model, tokenizer, adapter, coef=coef, src_lang='en', tgt_lang='en'))"
   ]
  },
  {
   "cell_type": "code",
   "execution_count": 560,
   "metadata": {},
   "outputs": [
    {
     "data": {
      "application/vnd.jupyter.widget-view+json": {
       "model_id": "ea0a86fcd1f440b88390ac1ae062fbe1",
       "version_major": 2,
       "version_minor": 0
      },
      "text/plain": [
       "  0%|          | 0/9 [00:00<?, ?it/s]"
      ]
     },
     "metadata": {},
     "output_type": "display_data"
    },
    {
     "data": {
      "application/vnd.jupyter.widget-view+json": {
       "model_id": "2770418e13dd45f8be53f814e3a1006e",
       "version_major": 2,
       "version_minor": 0
      },
      "text/plain": [
       "  0%|          | 0/1977 [00:00<?, ?it/s]"
      ]
     },
     "metadata": {},
     "output_type": "display_data"
    },
    {
     "data": {
      "application/vnd.jupyter.widget-view+json": {
       "model_id": "fd5f5643dd5641469b3fc6517af88f9c",
       "version_major": 2,
       "version_minor": 0
      },
      "text/plain": [
       "  0%|          | 0/1977 [00:00<?, ?it/s]"
      ]
     },
     "metadata": {},
     "output_type": "display_data"
    },
    {
     "data": {
      "application/vnd.jupyter.widget-view+json": {
       "model_id": "4b897173a9fb47939335f2c2cb375110",
       "version_major": 2,
       "version_minor": 0
      },
      "text/plain": [
       "  0%|          | 0/1977 [00:00<?, ?it/s]"
      ]
     },
     "metadata": {},
     "output_type": "display_data"
    },
    {
     "data": {
      "application/vnd.jupyter.widget-view+json": {
       "model_id": "d409a42e13e14d53827ef3c786e9b5ad",
       "version_major": 2,
       "version_minor": 0
      },
      "text/plain": [
       "  0%|          | 0/1977 [00:00<?, ?it/s]"
      ]
     },
     "metadata": {},
     "output_type": "display_data"
    },
    {
     "data": {
      "application/vnd.jupyter.widget-view+json": {
       "model_id": "8a566a0da936488aa515b7bba17b07e1",
       "version_major": 2,
       "version_minor": 0
      },
      "text/plain": [
       "  0%|          | 0/1977 [00:00<?, ?it/s]"
      ]
     },
     "metadata": {},
     "output_type": "display_data"
    },
    {
     "data": {
      "application/vnd.jupyter.widget-view+json": {
       "model_id": "43191055ba234b40bea6c716ee43ff7a",
       "version_major": 2,
       "version_minor": 0
      },
      "text/plain": [
       "  0%|          | 0/1977 [00:00<?, ?it/s]"
      ]
     },
     "metadata": {},
     "output_type": "display_data"
    },
    {
     "data": {
      "application/vnd.jupyter.widget-view+json": {
       "model_id": "54473c8312a44d09aee7bc243002e337",
       "version_major": 2,
       "version_minor": 0
      },
      "text/plain": [
       "  0%|          | 0/1977 [00:00<?, ?it/s]"
      ]
     },
     "metadata": {},
     "output_type": "display_data"
    },
    {
     "data": {
      "application/vnd.jupyter.widget-view+json": {
       "model_id": "d0e560c39116436284be1cec33d370ca",
       "version_major": 2,
       "version_minor": 0
      },
      "text/plain": [
       "  0%|          | 0/1977 [00:00<?, ?it/s]"
      ]
     },
     "metadata": {},
     "output_type": "display_data"
    },
    {
     "data": {
      "application/vnd.jupyter.widget-view+json": {
       "model_id": "ca2f29f1ab164daeb82950cc30896519",
       "version_major": 2,
       "version_minor": 0
      },
      "text/plain": [
       "  0%|          | 0/1977 [00:00<?, ?it/s]"
      ]
     },
     "metadata": {},
     "output_type": "display_data"
    }
   ],
   "source": [
    "smoothed_en = []\n",
    "\n",
    "for coef in tqdm([0, 0.25, 0.5, 0.75, 1, 1.25, 1.5, 1.75, 2]):\n",
    "    dev_smooth = pd.DataFrame({'toxic': dev['toxic_comment'], 'neutral': dev['neutral_comment']})\n",
    "    outs = []\n",
    "    for text in tqdm(dev_smooth.toxic):\n",
    "        outs.append(paraphrase_adapt(text, model, tokenizer, adapter, coef=coef, src_lang='en', tgt_lang='en'))\n",
    "    dev_smooth['coef'] = coef\n",
    "    dev_smooth['rewritten'] = outs\n",
    "    smoothed_en.append(dev_smooth)"
   ]
  },
  {
   "cell_type": "code",
   "execution_count": 563,
   "metadata": {},
   "outputs": [
    {
     "data": {
      "text/plain": [
       "9"
      ]
     },
     "execution_count": 563,
     "metadata": {},
     "output_type": "execute_result"
    }
   ],
   "source": [
    "len(smoothed_en)"
   ]
  },
  {
   "cell_type": "code",
   "execution_count": 570,
   "metadata": {},
   "outputs": [],
   "source": [
    "smoothed_en_total = pd.concat(smoothed_en)"
   ]
  },
  {
   "cell_type": "code",
   "execution_count": 571,
   "metadata": {},
   "outputs": [
    {
     "data": {
      "text/html": [
       "<div>\n",
       "<style scoped>\n",
       "    .dataframe tbody tr th:only-of-type {\n",
       "        vertical-align: middle;\n",
       "    }\n",
       "\n",
       "    .dataframe tbody tr th {\n",
       "        vertical-align: top;\n",
       "    }\n",
       "\n",
       "    .dataframe thead th {\n",
       "        text-align: right;\n",
       "    }\n",
       "</style>\n",
       "<table border=\"1\" class=\"dataframe\">\n",
       "  <thead>\n",
       "    <tr style=\"text-align: right;\">\n",
       "      <th></th>\n",
       "      <th>toxic</th>\n",
       "      <th>neutral</th>\n",
       "      <th>coef</th>\n",
       "      <th>rewritten</th>\n",
       "    </tr>\n",
       "  </thead>\n",
       "  <tbody>\n",
       "    <tr>\n",
       "      <th>16603</th>\n",
       "      <td>take your arrogant ass and fuck</td>\n",
       "      <td>Go away</td>\n",
       "      <td>0.0</td>\n",
       "      <td>Take your arrogant ass and fuck</td>\n",
       "    </tr>\n",
       "    <tr>\n",
       "      <th>11370</th>\n",
       "      <td>as well as routinely test for a whole host of ...</td>\n",
       "      <td>as well as routinely test for a whole host of ...</td>\n",
       "      <td>0.0</td>\n",
       "      <td>as well as routine testing for a whole range o...</td>\n",
       "    </tr>\n",
       "    <tr>\n",
       "      <th>741</th>\n",
       "      <td>youre asking to be reprimanded , dumbass .</td>\n",
       "      <td>You're asking to be reprimanded.</td>\n",
       "      <td>0.0</td>\n",
       "      <td>You are asking to be reprimanded, dumbass.</td>\n",
       "    </tr>\n",
       "    <tr>\n",
       "      <th>9679</th>\n",
       "      <td>i 've noticed we use the same words dick &lt; 1 b...</td>\n",
       "      <td>i 've noticed we use the same words &lt; 1 but i ...</td>\n",
       "      <td>0.0</td>\n",
       "      <td>I've noticed we use the same words dick &lt; 1 bu...</td>\n",
       "    </tr>\n",
       "    <tr>\n",
       "      <th>13433</th>\n",
       "      <td>what the fuck is going on in france ? ! ? ! ?</td>\n",
       "      <td>What is going on in France?</td>\n",
       "      <td>0.0</td>\n",
       "      <td>What the fuck is going on in France?</td>\n",
       "    </tr>\n",
       "    <tr>\n",
       "      <th>...</th>\n",
       "      <td>...</td>\n",
       "      <td>...</td>\n",
       "      <td>...</td>\n",
       "      <td>...</td>\n",
       "    </tr>\n",
       "    <tr>\n",
       "      <th>11872</th>\n",
       "      <td>you signed up for that shit .</td>\n",
       "      <td>you enlisted youself in that.</td>\n",
       "      <td>2.0</td>\n",
       "      <td>You did not know what you do?</td>\n",
       "    </tr>\n",
       "    <tr>\n",
       "      <th>612</th>\n",
       "      <td>please stop idiot user : j milburn , who is a ...</td>\n",
       "      <td>Please stop user j milburn who deletes pictures</td>\n",
       "      <td>2.0</td>\n",
       "      <td>Please use</td>\n",
       "    </tr>\n",
       "    <tr>\n",
       "      <th>4485</th>\n",
       "      <td>and my insurance sucks so it is a bitch to go ...</td>\n",
       "      <td>and my insurance  is to go to another one .</td>\n",
       "      <td>2.0</td>\n",
       "      <td>And my insurance does not have anything to do.</td>\n",
       "    </tr>\n",
       "    <tr>\n",
       "      <th>1362</th>\n",
       "      <td>who said shes privilege because shes black , t...</td>\n",
       "      <td>Are you saying she's privileged just because s...</td>\n",
       "      <td>2.0</td>\n",
       "      <td>who said privilege has no one.</td>\n",
       "    </tr>\n",
       "    <tr>\n",
       "      <th>5757</th>\n",
       "      <td>lol it 's big sean shit i thought the bar was ...</td>\n",
       "      <td>LoL it's big Sean I thought the bar was hot sh...</td>\n",
       "      <td>2.0</td>\n",
       "      <td>It's big.I've got it.I've got it.I've thought ...</td>\n",
       "    </tr>\n",
       "  </tbody>\n",
       "</table>\n",
       "<p>17793 rows × 4 columns</p>\n",
       "</div>"
      ],
      "text/plain": [
       "                                                   toxic  \\\n",
       "16603                    take your arrogant ass and fuck   \n",
       "11370  as well as routinely test for a whole host of ...   \n",
       "741           youre asking to be reprimanded , dumbass .   \n",
       "9679   i 've noticed we use the same words dick < 1 b...   \n",
       "13433      what the fuck is going on in france ? ! ? ! ?   \n",
       "...                                                  ...   \n",
       "11872                      you signed up for that shit .   \n",
       "612    please stop idiot user : j milburn , who is a ...   \n",
       "4485   and my insurance sucks so it is a bitch to go ...   \n",
       "1362   who said shes privilege because shes black , t...   \n",
       "5757   lol it 's big sean shit i thought the bar was ...   \n",
       "\n",
       "                                                 neutral  coef  \\\n",
       "16603                                            Go away   0.0   \n",
       "11370  as well as routinely test for a whole host of ...   0.0   \n",
       "741                     You're asking to be reprimanded.   0.0   \n",
       "9679   i 've noticed we use the same words < 1 but i ...   0.0   \n",
       "13433                        What is going on in France?   0.0   \n",
       "...                                                  ...   ...   \n",
       "11872                      you enlisted youself in that.   2.0   \n",
       "612      Please stop user j milburn who deletes pictures   2.0   \n",
       "4485         and my insurance  is to go to another one .   2.0   \n",
       "1362   Are you saying she's privileged just because s...   2.0   \n",
       "5757   LoL it's big Sean I thought the bar was hot sh...   2.0   \n",
       "\n",
       "                                               rewritten  \n",
       "16603                    Take your arrogant ass and fuck  \n",
       "11370  as well as routine testing for a whole range o...  \n",
       "741           You are asking to be reprimanded, dumbass.  \n",
       "9679   I've noticed we use the same words dick < 1 bu...  \n",
       "13433               What the fuck is going on in France?  \n",
       "...                                                  ...  \n",
       "11872                      You did not know what you do?  \n",
       "612                                           Please use  \n",
       "4485      And my insurance does not have anything to do.  \n",
       "1362                      who said privilege has no one.  \n",
       "5757   It's big.I've got it.I've got it.I've thought ...  \n",
       "\n",
       "[17793 rows x 4 columns]"
      ]
     },
     "execution_count": 571,
     "metadata": {},
     "output_type": "execute_result"
    }
   ],
   "source": [
    "smoothed_en_total"
   ]
  },
  {
   "cell_type": "code",
   "execution_count": 567,
   "metadata": {},
   "outputs": [],
   "source": [
    "import sys\n",
    "sys.path.append(os.path.abspath('..'))"
   ]
  },
  {
   "cell_type": "code",
   "execution_count": 585,
   "metadata": {},
   "outputs": [
    {
     "data": {
      "text/plain": [
       "<module 'evaluate_ru' from '/home/dale/projects/multilingual_detox/evaluate_ru.py'>"
      ]
     },
     "execution_count": 585,
     "metadata": {},
     "output_type": "execute_result"
    }
   ],
   "source": [
    "from importlib import reload\n",
    "import evaluate_ru\n",
    "reload(evaluate_ru)"
   ]
  },
  {
   "cell_type": "code",
   "execution_count": 586,
   "metadata": {},
   "outputs": [],
   "source": [
    "from evaluate_ru import evaluate_style_transfer, rotation_calibration, load_model\n",
    "from transformers import AutoModel"
   ]
  },
  {
   "cell_type": "code",
   "execution_count": 574,
   "metadata": {},
   "outputs": [
    {
     "name": "stderr",
     "output_type": "stream",
     "text": [
      "Some weights of the model checkpoint at SkolkovoInstitute/roberta_toxicity_classifier were not used when initializing RobertaForSequenceClassification: ['roberta.pooler.dense.bias', 'roberta.pooler.dense.weight']\n",
      "- This IS expected if you are initializing RobertaForSequenceClassification from the checkpoint of a model trained on another task or with another architecture (e.g. initializing a BertForSequenceClassification model from a BertForPreTraining model).\n",
      "- This IS NOT expected if you are initializing RobertaForSequenceClassification from the checkpoint of a model that you expect to be exactly identical (initializing a BertForSequenceClassification model from a BertForSequenceClassification model).\n",
      "Some weights of the model checkpoint at cointegrated/LaBSE-en-ru were not used when initializing BertModel: ['cls.predictions.transform.dense.weight', 'cls.predictions.transform.LayerNorm.bias', 'cls.predictions.decoder.bias', 'cls.predictions.transform.dense.bias', 'cls.predictions.bias', 'cls.predictions.decoder.weight', 'cls.predictions.transform.LayerNorm.weight', 'cls.seq_relationship.weight', 'cls.seq_relationship.bias']\n",
      "- This IS expected if you are initializing BertModel from the checkpoint of a model trained on another task or with another architecture (e.g. initializing a BertForSequenceClassification model from a BertForPreTraining model).\n",
      "- This IS NOT expected if you are initializing BertModel from the checkpoint of a model that you expect to be exactly identical (initializing a BertForSequenceClassification model from a BertForSequenceClassification model).\n"
     ]
    }
   ],
   "source": [
    "style_model, style_tokenizer = load_model(\n",
    "    \"SkolkovoInstitute/roberta_toxicity_classifier\", use_cuda=True\n",
    ")\n",
    "meaning_model, meaning_tokenizer = load_model(\n",
    "    \"cointegrated/LaBSE-en-ru\", use_cuda=True, model_class=AutoModel\n",
    ")\n",
    "cola_model, cola_tolenizer = load_model(\n",
    "    \"cointegrated/roberta-large-cola-krishna2020\", use_cuda=True\n",
    ")"
   ]
  },
  {
   "cell_type": "code",
   "execution_count": 587,
   "metadata": {},
   "outputs": [],
   "source": [
    "def evaluate(original, rewritten):\n",
    "    return evaluate_style_transfer(\n",
    "        original_texts=original,\n",
    "        rewritten_texts=rewritten,\n",
    "        style_model=style_model,\n",
    "        style_tokenizer=style_tokenizer,\n",
    "        meaning_model=meaning_model,\n",
    "        meaning_tokenizer=meaning_tokenizer,\n",
    "        cola_model=cola_model,\n",
    "        cola_tokenizer=cola_tolenizer,\n",
    "        style_target_label=0,\n",
    "        aggregate=False,\n",
    "    )"
   ]
  },
  {
   "cell_type": "code",
   "execution_count": 588,
   "metadata": {},
   "outputs": [
    {
     "name": "stdout",
     "output_type": "stream",
     "text": [
      "Style evaluation\n"
     ]
    },
    {
     "data": {
      "application/vnd.jupyter.widget-view+json": {
       "model_id": "57a3f75f547740a480b10ebbb8a57188",
       "version_major": 2,
       "version_minor": 0
      },
      "text/plain": [
       "  0%|          | 0/1 [00:00<?, ?it/s]"
      ]
     },
     "metadata": {},
     "output_type": "display_data"
    },
    {
     "name": "stdout",
     "output_type": "stream",
     "text": [
      "Meaning evaluation\n"
     ]
    },
    {
     "data": {
      "application/vnd.jupyter.widget-view+json": {
       "model_id": "b76fd5076706478f9c13a27f57ddac17",
       "version_major": 2,
       "version_minor": 0
      },
      "text/plain": [
       "  0%|          | 0/1 [00:00<?, ?it/s]"
      ]
     },
     "metadata": {},
     "output_type": "display_data"
    },
    {
     "data": {
      "application/vnd.jupyter.widget-view+json": {
       "model_id": "2a4ebad1fcd444e382e87272262c6819",
       "version_major": 2,
       "version_minor": 0
      },
      "text/plain": [
       "  0%|          | 0/1 [00:00<?, ?it/s]"
      ]
     },
     "metadata": {},
     "output_type": "display_data"
    },
    {
     "name": "stdout",
     "output_type": "stream",
     "text": [
      "Fluency evaluation\n"
     ]
    },
    {
     "data": {
      "application/vnd.jupyter.widget-view+json": {
       "model_id": "5f6cd2ed42e1484ba9c65caa599ec7a0",
       "version_major": 2,
       "version_minor": 0
      },
      "text/plain": [
       "  0%|          | 0/1 [00:00<?, ?it/s]"
      ]
     },
     "metadata": {},
     "output_type": "display_data"
    },
    {
     "name": "stdout",
     "output_type": "stream",
     "text": [
      "Style accuracy:       0.004463329911231995\n",
      "Meaning preservation: 0.9362119436264038\n",
      "Joint fluency:        0.08587229251861572\n",
      "Joint score:          0.00044021764188073575\n"
     ]
    },
    {
     "data": {
      "text/plain": [
       "{'accuracy': array([0.0004008 , 0.00883438, 0.00068814, 0.00612737, 0.00194569,\n",
       "        0.01342269, 0.0043384 , 0.00113114, 0.00642065, 0.00132404],\n",
       "       dtype=float32),\n",
       " 'similarity': array([0.95715904, 0.9586289 , 0.9720336 , 0.9952499 , 0.7581826 ,\n",
       "        0.9272719 , 0.96986175, 0.9313241 , 0.96922874, 0.9231801 ],\n",
       "       dtype=float32),\n",
       " 'fluency': array([0.03017178, 0.01991601, 0.00738973, 0.3300919 , 0.00661241,\n",
       "        0.01352297, 0.31790042, 0.00741753, 0.10535672, 0.02034353],\n",
       "       dtype=float32),\n",
       " 'joint': array([1.15747725e-05, 1.68666476e-04, 4.94293090e-06, 2.01298692e-03,\n",
       "        9.75457260e-06, 1.68313447e-04, 1.33761333e-03, 7.81408198e-06,\n",
       "        6.55643584e-04, 2.48664419e-05], dtype=float32)}"
      ]
     },
     "execution_count": 588,
     "metadata": {},
     "output_type": "execute_result"
    }
   ],
   "source": [
    "evaluate(smoothed_en_total.toxic.tolist()[:10], smoothed_en_total.rewritten.tolist()[:10])"
   ]
  },
  {
   "cell_type": "code",
   "execution_count": 589,
   "metadata": {},
   "outputs": [
    {
     "name": "stdout",
     "output_type": "stream",
     "text": [
      "Style evaluation\n"
     ]
    },
    {
     "data": {
      "application/vnd.jupyter.widget-view+json": {
       "model_id": "383797f4688847c4bd338df6508e9133",
       "version_major": 2,
       "version_minor": 0
      },
      "text/plain": [
       "  0%|          | 0/557 [00:00<?, ?it/s]"
      ]
     },
     "metadata": {},
     "output_type": "display_data"
    },
    {
     "name": "stdout",
     "output_type": "stream",
     "text": [
      "Meaning evaluation\n"
     ]
    },
    {
     "data": {
      "application/vnd.jupyter.widget-view+json": {
       "model_id": "8e5757dfa124414b81697d62c6838830",
       "version_major": 2,
       "version_minor": 0
      },
      "text/plain": [
       "  0%|          | 0/557 [00:00<?, ?it/s]"
      ]
     },
     "metadata": {},
     "output_type": "display_data"
    },
    {
     "data": {
      "application/vnd.jupyter.widget-view+json": {
       "model_id": "33cc52c340164153ba69dbc789b460bd",
       "version_major": 2,
       "version_minor": 0
      },
      "text/plain": [
       "  0%|          | 0/557 [00:00<?, ?it/s]"
      ]
     },
     "metadata": {},
     "output_type": "display_data"
    },
    {
     "name": "stdout",
     "output_type": "stream",
     "text": [
      "Fluency evaluation\n"
     ]
    },
    {
     "data": {
      "application/vnd.jupyter.widget-view+json": {
       "model_id": "fda6c183a6934173b35a24c28ac32674",
       "version_major": 2,
       "version_minor": 0
      },
      "text/plain": [
       "  0%|          | 0/557 [00:00<?, ?it/s]"
      ]
     },
     "metadata": {},
     "output_type": "display_data"
    },
    {
     "name": "stdout",
     "output_type": "stream",
     "text": [
      "Style accuracy:       0.48484891653060913\n",
      "Meaning preservation: 0.8035171031951904\n",
      "Joint fluency:        0.29191556572914124\n",
      "Joint score:          0.11001109331846237\n"
     ]
    }
   ],
   "source": [
    "eval_result = evaluate(smoothed_en_total.toxic.tolist(), smoothed_en_total.rewritten.tolist())"
   ]
  },
  {
   "cell_type": "code",
   "execution_count": 590,
   "metadata": {},
   "outputs": [
    {
     "data": {
      "text/plain": [
       "{'accuracy': array([4.0079976e-04, 8.8343890e-03, 6.8813737e-04, ..., 9.9995899e-01,\n",
       "        9.9995351e-01, 9.9994898e-01], dtype=float32),\n",
       " 'similarity': array([0.95715904, 0.9586289 , 0.97203356, ..., 0.5525099 , 0.4865151 ,\n",
       "        0.69176537], dtype=float32),\n",
       " 'fluency': array([0.03017175, 0.01991601, 0.00738972, ..., 0.20316884, 0.2431058 ,\n",
       "        0.2750421 ], dtype=float32),\n",
       " 'joint': array([1.15747616e-05, 1.68666709e-04, 4.94292772e-06, ...,\n",
       "        1.12248197e-01, 1.18269145e-01, 1.90254882e-01], dtype=float32)}"
      ]
     },
     "execution_count": 590,
     "metadata": {},
     "output_type": "execute_result"
    }
   ],
   "source": [
    "eval_result"
   ]
  },
  {
   "cell_type": "code",
   "execution_count": 591,
   "metadata": {},
   "outputs": [
    {
     "data": {
      "text/plain": [
       "count    17793.000000\n",
       "mean         0.291916\n",
       "std          0.335477\n",
       "min          0.003700\n",
       "25%          0.013892\n",
       "50%          0.111475\n",
       "75%          0.541397\n",
       "max          0.993652\n",
       "dtype: float64"
      ]
     },
     "execution_count": 591,
     "metadata": {},
     "output_type": "execute_result"
    }
   ],
   "source": [
    "pd.Series(eval_result['fluency']).describe()"
   ]
  },
  {
   "cell_type": "code",
   "execution_count": 599,
   "metadata": {},
   "outputs": [],
   "source": [
    "scored = pd.concat([smoothed_en_total.reset_index(drop=True), pd.DataFrame(eval_result)], axis=1)"
   ]
  },
  {
   "cell_type": "code",
   "execution_count": 604,
   "metadata": {},
   "outputs": [],
   "source": [
    "from sacrebleu import CHRF"
   ]
  },
  {
   "cell_type": "code",
   "execution_count": 605,
   "metadata": {},
   "outputs": [],
   "source": [
    "chrf_scorer = CHRF()"
   ]
  },
  {
   "cell_type": "code",
   "execution_count": 615,
   "metadata": {},
   "outputs": [
    {
     "data": {
      "text/plain": [
       "59.65445995185393"
      ]
     },
     "execution_count": 615,
     "metadata": {},
     "output_type": "execute_result"
    }
   ],
   "source": []
  },
  {
   "cell_type": "code",
   "execution_count": 618,
   "metadata": {},
   "outputs": [
    {
     "data": {
      "text/plain": [
       "coef\n",
       "0.00    67.379976\n",
       "0.25    68.228197\n",
       "0.50    68.677478\n",
       "0.75    68.817859\n",
       "1.00    67.625447\n",
       "1.25    63.810313\n",
       "1.50    55.527597\n",
       "1.75    43.782496\n",
       "2.00    30.211360\n",
       "dtype: float64"
      ]
     },
     "execution_count": 618,
     "metadata": {},
     "output_type": "execute_result"
    }
   ],
   "source": [
    "chrf_dep = scored.groupby('coef').apply(lambda x: chrf_scorer.corpus_score(x.rewritten.tolist(), [x.neutral.tolist()]).score)\n",
    "chrf_dep"
   ]
  },
  {
   "cell_type": "code",
   "execution_count": 620,
   "metadata": {},
   "outputs": [
    {
     "data": {
      "image/png": "[encoded data removed]",
      "text/plain": [
       "<Figure size 432x288 with 1 Axes>"
      ]
     },
     "metadata": {
      "needs_background": "light"
     },
     "output_type": "display_data"
    }
   ],
   "source": [
    "means = scored.groupby('coef').mean()\n",
    "means['chrf'] = chrf_dep / 100\n",
    "means.plot(title='dependency of properties on the modification score');"
   ]
  },
  {
   "cell_type": "code",
   "execution_count": 621,
   "metadata": {},
   "outputs": [
    {
     "name": "stdout",
     "output_type": "stream",
     "text": [
      "      accuracy  similarity   fluency     joint      chrf\n",
      "coef                                                    \n",
      "0.00  0.072764    0.941305  0.219960  0.014325  0.673800\n",
      "0.25  0.078802    0.943689  0.215839  0.013954  0.682282\n",
      "0.50  0.111914    0.939319  0.216722  0.016290  0.686775\n",
      "0.75  0.219769    0.922361  0.220954  0.037799  0.688179\n",
      "1.00  0.424197    0.884236  0.233416  0.082025  0.676254\n",
      "1.25  0.665420    0.813468  0.277568  0.145863  0.638103\n",
      "1.50  0.854213    0.717694  0.342260  0.210770  0.555276\n",
      "1.75  0.952728    0.606150  0.410117  0.239044  0.437825\n",
      "2.00  0.983833    0.463433  0.490402  0.230029  0.302114\n"
     ]
    }
   ],
   "source": [
    "print(means)"
   ]
  },
  {
   "cell_type": "code",
   "execution_count": 622,
   "metadata": {},
   "outputs": [],
   "source": [
    "scored.to_csv('m2m_token_mapping_dev_en_scored.csv', index=None)"
   ]
  },
  {
   "cell_type": "code",
   "execution_count": null,
   "metadata": {},
   "outputs": [],
   "source": []
  }
 ],
 "metadata": {
  "kernelspec": {
   "display_name": "p3k",
   "language": "python",
   "name": "p3k"
  },
  "language_info": {
   "codemirror_mode": {
    "name": "ipython",
    "version": 3
   },
   "file_extension": ".py",
   "mimetype": "text/x-python",
   "name": "python",
   "nbconvert_exporter": "python",
   "pygments_lexer": "ipython3",
   "version": "3.7.4"
  }
 },
 "nbformat": 4,
 "nbformat_minor": 4
}
